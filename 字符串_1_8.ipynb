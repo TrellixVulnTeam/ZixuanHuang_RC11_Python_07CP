{
 "cells": [
  {
   "cell_type": "code",
   "execution_count": 1,
   "metadata": {},
   "outputs": [],
   "source": [
    "#字符串的驻留 ...."
   ]
  },
  {
   "cell_type": "code",
   "execution_count": 2,
   "metadata": {},
   "outputs": [
    {
     "name": "stdout",
     "output_type": "stream",
     "text": [
      "2398957994200\n",
      "2398957994200\n",
      "2398957994200\n"
     ]
    }
   ],
   "source": [
    "a='Python'\n",
    "b=\"Python\"\n",
    "c='''Python'''\n",
    "print(id(a))\n",
    "print(id(b))\n",
    "print(id(c))   #同一个地址被重新赋给多个新的参数 "
   ]
  },
  {
   "cell_type": "code",
   "execution_count": 5,
   "metadata": {},
   "outputs": [],
   "source": [
    "#驻留的几种情况（交互模式） \n",
    "\n",
    "\n",
    "#1.字符串的长度为0/1 2.符合标识符的字符串 3.字符串只在编译时进行驻留，而非运行时 4[-5,256]之间的整数数字"
   ]
  },
  {
   "cell_type": "code",
   "execution_count": 3,
   "metadata": {},
   "outputs": [],
   "source": [
    "# 字符串与元组都是不可变序列"
   ]
  },
  {
   "cell_type": "code",
   "execution_count": 12,
   "metadata": {},
   "outputs": [],
   "source": [
    "#sys.intern可以强行是两个变量指向一个对象"
   ]
  },
  {
   "cell_type": "code",
   "execution_count": 13,
   "metadata": {},
   "outputs": [
    {
     "name": "stdout",
     "output_type": "stream",
     "text": [
      "2399024495672\n",
      "2399024494272\n"
     ]
    }
   ],
   "source": [
    "t1='avbc%'\n",
    "t2='avbc%' #不是符合标识符的标识符\n",
    "print(id(t1))\n",
    "print(id(t2)) #不同内存空间"
   ]
  },
  {
   "cell_type": "code",
   "execution_count": 14,
   "metadata": {},
   "outputs": [
    {
     "name": "stdout",
     "output_type": "stream",
     "text": [
      "False\n"
     ]
    }
   ],
   "source": [
    "print(t1 is t2)"
   ]
  },
  {
   "cell_type": "code",
   "execution_count": 15,
   "metadata": {},
   "outputs": [
    {
     "name": "stdout",
     "output_type": "stream",
     "text": [
      "True\n"
     ]
    }
   ],
   "source": [
    "import sys\n",
    "t1=sys.intern(t2)\n",
    "print(t1 is t2)"
   ]
  },
  {
   "cell_type": "code",
   "execution_count": 17,
   "metadata": {},
   "outputs": [],
   "source": [
    "#合并字符串用 join 方法，而非“+”,因为join()方法是先计算出所有字符中的长度，然后再拷贝，只new一次对象，效率更高"
   ]
  },
  {
   "cell_type": "code",
   "execution_count": 19,
   "metadata": {},
   "outputs": [],
   "source": [
    "# index() / rindex() --->第一次出现的位置/最后一次出现的位置, 如果查找的子串不在，则抛出ValueError\n",
    "\n",
    "\n",
    "# find() / rfind() --->第一次出现的位置/最后一次出现的位置, 如果查找的子串不在，则抛出-1"
   ]
  },
  {
   "cell_type": "code",
   "execution_count": 20,
   "metadata": {},
   "outputs": [
    {
     "name": "stdout",
     "output_type": "stream",
     "text": [
      "3\n"
     ]
    }
   ],
   "source": [
    "s='asdfasdfaxxafadfwqfzfqfqfaf'\n",
    "print(s.index('fa'))"
   ]
  },
  {
   "cell_type": "code",
   "execution_count": 1,
   "metadata": {},
   "outputs": [],
   "source": [
    "#字符串里面的变化操作"
   ]
  },
  {
   "cell_type": "code",
   "execution_count": 2,
   "metadata": {},
   "outputs": [],
   "source": [
    "s='There are moments in life when you miss someone so much that you just want'"
   ]
  },
  {
   "cell_type": "code",
   "execution_count": 4,
   "metadata": {},
   "outputs": [
    {
     "data": {
      "text/plain": [
       "'THERE ARE MOMENTS IN LIFE WHEN YOU MISS SOMEONE SO MUCH THAT YOU JUST WANT TO PICK THEM FROM YOUR DREAMS AND HUG THEM FOR REAL! DREAM WHAT YOU WANT TO DREAM;GO WHERE YOU WANT TO GO;BE WHAT YOU WANT TO BE,BECAUSE YOU HAVE ONLY ONE LIFE AND ONE CHANCE TO DO ALL THE THINGS YOU WANT TO DO.'"
      ]
     },
     "execution_count": 4,
     "metadata": {},
     "output_type": "execute_result"
    }
   ],
   "source": [
    "s.upper()"
   ]
  },
  {
   "cell_type": "code",
   "execution_count": 5,
   "metadata": {},
   "outputs": [
    {
     "data": {
      "text/plain": [
       "'there are moments in life when you miss someone so much that you just want to pick them from your dreams and hug them for real! dream what you want to dream;go where you want to go;be what you want to be,because you have only one life and one chance to do all the things you want to do.'"
      ]
     },
     "execution_count": 5,
     "metadata": {},
     "output_type": "execute_result"
    }
   ],
   "source": [
    "s.lower()"
   ]
  },
  {
   "cell_type": "code",
   "execution_count": 6,
   "metadata": {},
   "outputs": [
    {
     "data": {
      "text/plain": [
       "'There Are Moments In Life When You Miss Someone So Much That You Just Want To Pick Them From Your Dreams And Hug Them For Real! Dream What You Want To Dream;Go Where You Want To Go;Be What You Want To Be,Because You Have Only One Life And One Chance To Do All The Things You Want To Do.'"
      ]
     },
     "execution_count": 6,
     "metadata": {},
     "output_type": "execute_result"
    }
   ],
   "source": [
    "s.title()"
   ]
  },
  {
   "cell_type": "code",
   "execution_count": 7,
   "metadata": {},
   "outputs": [
    {
     "data": {
      "text/plain": [
       "'tHERE ARE MOMENTS IN LIFE WHEN YOU MISS SOMEONE SO MUCH THAT YOU JUST WANT TO PICK THEM FROM YOUR DREAMS AND HUG THEM FOR REAL! dREAM WHAT YOU WANT TO DREAM;GO WHERE YOU WANT TO GO;BE WHAT YOU WANT TO BE,BECAUSE YOU HAVE ONLY ONE LIFE AND ONE CHANCE TO DO ALL THE THINGS YOU WANT TO DO.'"
      ]
     },
     "execution_count": 7,
     "metadata": {},
     "output_type": "execute_result"
    }
   ],
   "source": [
    "s.swapcase()"
   ]
  },
  {
   "cell_type": "code",
   "execution_count": 8,
   "metadata": {},
   "outputs": [
    {
     "data": {
      "text/plain": [
       "'There are moments in life when you miss someone so much that you just want to pick them from your dreams and hug them for real! dream what you want to dream;go where you want to go;be what you want to be,because you have only one life and one chance to do all the things you want to do.'"
      ]
     },
     "execution_count": 8,
     "metadata": {},
     "output_type": "execute_result"
    }
   ],
   "source": [
    "s.capitalize()"
   ]
  },
  {
   "cell_type": "code",
   "execution_count": 9,
   "metadata": {},
   "outputs": [],
   "source": [
    "#字符串里面的对齐操作"
   ]
  },
  {
   "cell_type": "code",
   "execution_count": 10,
   "metadata": {},
   "outputs": [],
   "source": [
    "s='hello world'"
   ]
  },
  {
   "cell_type": "code",
   "execution_count": 11,
   "metadata": {},
   "outputs": [
    {
     "name": "stdout",
     "output_type": "stream",
     "text": [
      "****hello world*****\n"
     ]
    }
   ],
   "source": [
    "print(s.center(20,'*')) #居中"
   ]
  },
  {
   "cell_type": "code",
   "execution_count": 12,
   "metadata": {},
   "outputs": [
    {
     "name": "stdout",
     "output_type": "stream",
     "text": [
      "hello world*********\n"
     ]
    }
   ],
   "source": [
    "print(s.ljust(20,'*')) #左对齐"
   ]
  },
  {
   "cell_type": "code",
   "execution_count": 14,
   "metadata": {},
   "outputs": [
    {
     "name": "stdout",
     "output_type": "stream",
     "text": [
      "*********hello world\n"
     ]
    }
   ],
   "source": [
    "print(s.rjust(20,'*')) #右对齐"
   ]
  },
  {
   "cell_type": "code",
   "execution_count": 16,
   "metadata": {},
   "outputs": [
    {
     "name": "stdout",
     "output_type": "stream",
     "text": [
      "000000000hello world\n"
     ]
    }
   ],
   "source": [
    "print(s.zfill(20)) #右对齐，以0填充"
   ]
  },
  {
   "cell_type": "code",
   "execution_count": 17,
   "metadata": {},
   "outputs": [
    {
     "name": "stdout",
     "output_type": "stream",
     "text": [
      "-0000000000000052623\n"
     ]
    }
   ],
   "source": [
    "print('-52623'.zfill(20)) #负号会提前"
   ]
  },
  {
   "cell_type": "code",
   "execution_count": 18,
   "metadata": {},
   "outputs": [],
   "source": [
    "#字符串里面的劈分操作"
   ]
  },
  {
   "cell_type": "code",
   "execution_count": 19,
   "metadata": {},
   "outputs": [],
   "source": [
    "s='hello world'"
   ]
  },
  {
   "cell_type": "code",
   "execution_count": 21,
   "metadata": {},
   "outputs": [
    {
     "name": "stdout",
     "output_type": "stream",
     "text": [
      "['hello', 'world']\n"
     ]
    }
   ],
   "source": [
    "print(s.split())  #默认用空格分割/从左往右分"
   ]
  },
  {
   "cell_type": "code",
   "execution_count": 28,
   "metadata": {},
   "outputs": [
    {
     "name": "stdout",
     "output_type": "stream",
     "text": [
      "['hell', 'o w', 'or', 'l', 'd']\n",
      "['hell', 'o w', 'or', 'l', 'd']\n"
     ]
    }
   ],
   "source": [
    "s='hell|o w|or|l|d'\n",
    "\n",
    "print(s.split(sep='|'))\n",
    "\n",
    "print(s.split('|'))\n"
   ]
  },
  {
   "cell_type": "code",
   "execution_count": 26,
   "metadata": {},
   "outputs": [
    {
     "name": "stdout",
     "output_type": "stream",
     "text": [
      "['hell', 'o w|or|l|d']\n"
     ]
    }
   ],
   "source": [
    "print(s.split(sep='|',maxsplit=1))#maxsplit最大劈分次数"
   ]
  },
  {
   "cell_type": "code",
   "execution_count": 27,
   "metadata": {},
   "outputs": [],
   "source": [
    "                                # rsplit默认从右往左分"
   ]
  },
  {
   "cell_type": "code",
   "execution_count": 29,
   "metadata": {},
   "outputs": [],
   "source": [
    "#判断字符串操作的方法"
   ]
  },
  {
   "cell_type": "code",
   "execution_count": 31,
   "metadata": {},
   "outputs": [
    {
     "data": {
      "text/plain": [
       "'   isidentifier()  判断指定的字符串是不是合法的标识符（字母.数字.下划线）\\n\\n      isspace()       ...全部由空白字符组成\\n      \\n      isalpha()       ...全部由字母组成\\n      \\n      isdecimal()     ...全部由十进制的数字组成 #只认阿拉伯数字\\n      \\n      isnumeric()     ...全部由数字组成  #认所有语种数字\\n      \\n      isalnum()       ...全部由字母和数字组成 #认所有语种数字/文字\\n      \\n      '"
      ]
     },
     "execution_count": 31,
     "metadata": {},
     "output_type": "execute_result"
    }
   ],
   "source": [
    "'''   isidentifier()  判断指定的字符串是不是合法的标识符（字母.数字.下划线）\n",
    "\n",
    "      isspace()       ...全部由空白字符组成\n",
    "      \n",
    "      isalpha()       ...全部由字母组成\n",
    "      \n",
    "      isdecimal()     ...全部由十进制的数字组成 #只认阿拉伯数字\n",
    "      \n",
    "      isnumeric()     ...全部由数字组成  #认所有语种数字\n",
    "      \n",
    "      isalnum()       ...全部由字母和数字组成 #认所有语种数字/文字\n",
    "      \n",
    "      '''"
   ]
  },
  {
   "cell_type": "code",
   "execution_count": 32,
   "metadata": {},
   "outputs": [],
   "source": [
    "#  替换/合并 replace()/join()"
   ]
  },
  {
   "cell_type": "code",
   "execution_count": 33,
   "metadata": {},
   "outputs": [],
   "source": [
    "s='Hello Python'"
   ]
  },
  {
   "cell_type": "code",
   "execution_count": 34,
   "metadata": {},
   "outputs": [
    {
     "name": "stdout",
     "output_type": "stream",
     "text": [
      "Hello Java\n"
     ]
    }
   ],
   "source": [
    "print(s.replace('Python','Java'))"
   ]
  },
  {
   "cell_type": "code",
   "execution_count": 37,
   "metadata": {},
   "outputs": [
    {
     "name": "stdout",
     "output_type": "stream",
     "text": [
      "Hello Java Java Python\n"
     ]
    }
   ],
   "source": [
    "s='Hello Python Python Python'\n",
    "print(s.replace('Python','Java',2))"
   ]
  },
  {
   "cell_type": "code",
   "execution_count": 38,
   "metadata": {},
   "outputs": [],
   "source": [
    "#join 将列表和元组中的字符串合并成一个字符串"
   ]
  },
  {
   "cell_type": "code",
   "execution_count": 40,
   "metadata": {},
   "outputs": [
    {
     "name": "stdout",
     "output_type": "stream",
     "text": [
      "HelloPythonik\n",
      "Hello   Python   ik\n",
      "Hello|Python|ik\n"
     ]
    }
   ],
   "source": [
    "lst=['Hello','Python','ik']\n",
    "print(''.join(lst))\n",
    "\n",
    "print('   '.join(lst))\n",
    "\n",
    "print('|'.join(lst))"
   ]
  },
  {
   "cell_type": "code",
   "execution_count": 42,
   "metadata": {},
   "outputs": [
    {
     "name": "stdout",
     "output_type": "stream",
     "text": [
      "P*y*t*h*o*n\n"
     ]
    }
   ],
   "source": [
    "print('*'.join('Python'))"
   ]
  },
  {
   "cell_type": "code",
   "execution_count": 43,
   "metadata": {},
   "outputs": [],
   "source": [
    "#字符串的比较操作"
   ]
  },
  {
   "cell_type": "code",
   "execution_count": 45,
   "metadata": {},
   "outputs": [
    {
     "name": "stdout",
     "output_type": "stream",
     "text": [
      "97 98\n"
     ]
    }
   ],
   "source": [
    "#运算符：>,>=,<,<=,==,!= \n",
    "#比较的是原始值\n",
    "\n",
    "s1='apple'\n",
    "s2='banana'\n",
    "print(ord('a'),ord('b'))"
   ]
  },
  {
   "cell_type": "code",
   "execution_count": 46,
   "metadata": {},
   "outputs": [
    {
     "name": "stdout",
     "output_type": "stream",
     "text": [
      "a b\n"
     ]
    }
   ],
   "source": [
    "print(chr(97),chr(98)) # ord/chr互为对值"
   ]
  },
  {
   "cell_type": "code",
   "execution_count": 47,
   "metadata": {},
   "outputs": [],
   "source": [
    "# ==比较的是Value   is 比较的是id是否相等"
   ]
  },
  {
   "cell_type": "code",
   "execution_count": 48,
   "metadata": {},
   "outputs": [],
   "source": [
    "#字符串的切片操作"
   ]
  },
  {
   "cell_type": "code",
   "execution_count": 49,
   "metadata": {},
   "outputs": [],
   "source": [
    "#字符串不可变类型，进行切片后将生成新的片段"
   ]
  },
  {
   "cell_type": "code",
   "execution_count": 54,
   "metadata": {},
   "outputs": [
    {
     "name": "stdout",
     "output_type": "stream",
     "text": [
      "Hello P\n"
     ]
    }
   ],
   "source": [
    "s='Hello Python'\n",
    "s2=s[:7]\n",
    "s3=s[5:]\n",
    "print(s2)"
   ]
  },
  {
   "cell_type": "code",
   "execution_count": 55,
   "metadata": {},
   "outputs": [
    {
     "name": "stdout",
     "output_type": "stream",
     "text": [
      "Hello P! Python\n"
     ]
    }
   ],
   "source": [
    "print(s2+'!'+s3)"
   ]
  },
  {
   "cell_type": "code",
   "execution_count": 58,
   "metadata": {},
   "outputs": [
    {
     "name": "stdout",
     "output_type": "stream",
     "text": [
      "ello P\n"
     ]
    }
   ],
   "source": [
    "s4=s[1:7:1] #(起始：停止：步长)\n",
    "print(s4)"
   ]
  },
  {
   "cell_type": "code",
   "execution_count": 59,
   "metadata": {},
   "outputs": [
    {
     "data": {
      "text/plain": [
       "'nohtyP olleH'"
      ]
     },
     "execution_count": 59,
     "metadata": {},
     "output_type": "execute_result"
    }
   ],
   "source": [
    "s[::-1] #！！！！！！"
   ]
  },
  {
   "cell_type": "code",
   "execution_count": 60,
   "metadata": {},
   "outputs": [],
   "source": [
    "#格式化字符串  \n",
    "\n",
    "# %作为占位符   %s 字符串  %i/%d 整数  %f 浮点数\n",
    "\n",
    "# {}作为占位符\n"
   ]
  },
  {
   "cell_type": "code",
   "execution_count": 61,
   "metadata": {},
   "outputs": [
    {
     "name": "stdout",
     "output_type": "stream",
     "text": [
      "我叫张三,今年20岁\n"
     ]
    }
   ],
   "source": [
    "# %\n",
    "\n",
    "name='张三'\n",
    "age =20\n",
    "\n",
    "print('我叫%s,今年%d岁'%(name,age))"
   ]
  },
  {
   "cell_type": "code",
   "execution_count": 65,
   "metadata": {},
   "outputs": [
    {
     "name": "stdout",
     "output_type": "stream",
     "text": [
      "我叫张三,今年20岁\n"
     ]
    }
   ],
   "source": [
    "# {}\n",
    "\n",
    "name='张三'\n",
    "age =20\n",
    "\n",
    "print('我叫{0},今年{1}岁'.format(name,age))\n"
   ]
  },
  {
   "cell_type": "code",
   "execution_count": 67,
   "metadata": {},
   "outputs": [
    {
     "name": "stdout",
     "output_type": "stream",
     "text": [
      "我叫张三,今年20岁\n"
     ]
    }
   ],
   "source": [
    "#\n",
    "name='张三'\n",
    "age =20\n",
    "\n",
    "print(f'我叫{name},今年{age}岁')\n"
   ]
  },
  {
   "cell_type": "code",
   "execution_count": 68,
   "metadata": {},
   "outputs": [
    {
     "name": "stdout",
     "output_type": "stream",
     "text": [
      "99\n"
     ]
    }
   ],
   "source": [
    "#\n",
    "\n",
    "print('%d'%99)"
   ]
  },
  {
   "cell_type": "code",
   "execution_count": 70,
   "metadata": {},
   "outputs": [
    {
     "name": "stdout",
     "output_type": "stream",
     "text": [
      "        99\n"
     ]
    }
   ],
   "source": [
    "print('%10d'%99)#10表示宽度"
   ]
  },
  {
   "cell_type": "code",
   "execution_count": 71,
   "metadata": {},
   "outputs": [
    {
     "name": "stdout",
     "output_type": "stream",
     "text": [
      "3.141593\n"
     ]
    }
   ],
   "source": [
    "print('%f'%3.1415926)"
   ]
  },
  {
   "cell_type": "code",
   "execution_count": 73,
   "metadata": {},
   "outputs": [
    {
     "name": "stdout",
     "output_type": "stream",
     "text": [
      "3.142\n"
     ]
    }
   ],
   "source": [
    "print('%.3f'%3.1415926)# .3表示小数点后3位"
   ]
  },
  {
   "cell_type": "code",
   "execution_count": 75,
   "metadata": {},
   "outputs": [
    {
     "name": "stdout",
     "output_type": "stream",
     "text": [
      "3.14\n"
     ]
    }
   ],
   "source": [
    "print('{0:.3}'.format(3.1415926)) # .3表示共三位"
   ]
  },
  {
   "cell_type": "code",
   "execution_count": 76,
   "metadata": {},
   "outputs": [
    {
     "name": "stdout",
     "output_type": "stream",
     "text": [
      "3.142\n"
     ]
    }
   ],
   "source": [
    "print('{0:.3f}'.format(3.1415926)) # .3f表示三位小数"
   ]
  },
  {
   "cell_type": "code",
   "execution_count": 77,
   "metadata": {},
   "outputs": [],
   "source": [
    "#字符串的编码转换"
   ]
  },
  {
   "cell_type": "code",
   "execution_count": 80,
   "metadata": {},
   "outputs": [
    {
     "name": "stdout",
     "output_type": "stream",
     "text": [
      "b'\\xc4\\xe3\\xca\\xc7\\xc9\\xb5\\xb1\\xc6'\n",
      "b'\\xe4\\xbd\\xa0\\xe6\\x98\\xaf\\xe5\\x82\\xbb\\xe9\\x80\\xbc'\n"
     ]
    }
   ],
   "source": [
    "#编码\n",
    "\n",
    "s='你是傻逼'\n",
    "print(s.encode(encoding='GBK')) #一个中文占两个字节\n",
    "print(s.encode(encoding='UTF-8'))#一个中文占三个字节"
   ]
  },
  {
   "cell_type": "code",
   "execution_count": 81,
   "metadata": {},
   "outputs": [
    {
     "name": "stdout",
     "output_type": "stream",
     "text": [
      "你是傻逼\n"
     ]
    }
   ],
   "source": [
    "#解码\n",
    "byte=s.encode(encoding='GBK')\n",
    "print(byte.decode(encoding='GBK'))"
   ]
  },
  {
   "cell_type": "code",
   "execution_count": 82,
   "metadata": {},
   "outputs": [
    {
     "name": "stdout",
     "output_type": "stream",
     "text": [
      "你是傻逼\n"
     ]
    }
   ],
   "source": [
    "byte=s.encode(encoding='UTF-8')\n",
    "print(byte.decode(encoding='UTF-8'))"
   ]
  },
  {
   "cell_type": "code",
   "execution_count": null,
   "metadata": {},
   "outputs": [],
   "source": []
  }
 ],
 "metadata": {
  "kernelspec": {
   "display_name": "Python 3",
   "language": "python",
   "name": "python3"
  },
  "language_info": {
   "codemirror_mode": {
    "name": "ipython",
    "version": 3
   },
   "file_extension": ".py",
   "mimetype": "text/x-python",
   "name": "python",
   "nbconvert_exporter": "python",
   "pygments_lexer": "ipython3",
   "version": "3.7.0"
  }
 },
 "nbformat": 4,
 "nbformat_minor": 4
}
