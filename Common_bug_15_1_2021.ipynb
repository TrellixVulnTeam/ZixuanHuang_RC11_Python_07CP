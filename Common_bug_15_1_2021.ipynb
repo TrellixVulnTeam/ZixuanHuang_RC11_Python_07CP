{
 "cells": [
  {
   "cell_type": "code",
   "execution_count": 1,
   "metadata": {},
   "outputs": [],
   "source": [
    "lst=[]"
   ]
  },
  {
   "cell_type": "code",
   "execution_count": 3,
   "metadata": {},
   "outputs": [],
   "source": [
    "lst.append('A')"
   ]
  },
  {
   "cell_type": "code",
   "execution_count": 7,
   "metadata": {},
   "outputs": [
    {
     "name": "stdout",
     "output_type": "stream",
     "text": [
      "['A']\n"
     ]
    }
   ],
   "source": [
    "print(lst)"
   ]
  },
  {
   "cell_type": "code",
   "execution_count": 8,
   "metadata": {},
   "outputs": [],
   "source": [
    "lst2=[2,3,4,5,6]\n",
    "lst.extend(lst2)"
   ]
  },
  {
   "cell_type": "code",
   "execution_count": 9,
   "metadata": {},
   "outputs": [],
   "source": [
    "lst.extend([1,3,4,5,67,0])"
   ]
  },
  {
   "cell_type": "code",
   "execution_count": 13,
   "metadata": {},
   "outputs": [
    {
     "name": "stdout",
     "output_type": "stream",
     "text": [
      "请输入第一个整数10\n",
      "请输入第二个整数0\n",
      "对不起，除数不允许为0\n",
      "程序结束\n"
     ]
    }
   ],
   "source": [
    "try:\n",
    "    a=int(input('请输入第一个整数'))\n",
    "    b=int(input('请输入第二个整数'))\n",
    "    result=a/b\n",
    "    print('结果为:',result)\n",
    "except ZeroDivisionError:\n",
    "    print('对不起，除数不允许为0')\n",
    "print('程序结束')"
   ]
  },
  {
   "cell_type": "code",
   "execution_count": 14,
   "metadata": {},
   "outputs": [
    {
     "data": {
      "text/plain": [
       "\"try:\\n    a=int(input('请输入第一个整数'))\\n    b=int(input('请输入第二个整数'))\\n    result=a/b\\n    print('结果为:',result)\\nexcept ZeroDivisionError:                    \\n    print('对不起，除数不允许为0')\\nexcept....:\\n    ...                                   #从上到下依次运行\\nexcept...:\\n    ...\\nprint('程序结束')\""
      ]
     },
     "execution_count": 14,
     "metadata": {},
     "output_type": "execute_result"
    }
   ],
   "source": [
    "\"\"\"try:\n",
    "    a=int(input('请输入第一个整数'))\n",
    "    b=int(input('请输入第二个整数'))\n",
    "    result=a/b\n",
    "    print('结果为:',result)\n",
    "except ZeroDivisionError:                    \n",
    "    print('对不起，除数不允许为0')\n",
    "except....:\n",
    "    ...                                   #从上到下依次运行\n",
    "except...:\n",
    "    ...\n",
    "print('程序结束')\"\"\""
   ]
  },
  {
   "cell_type": "code",
   "execution_count": 15,
   "metadata": {},
   "outputs": [],
   "source": [
    "#try..except..else"
   ]
  },
  {
   "cell_type": "code",
   "execution_count": 16,
   "metadata": {},
   "outputs": [
    {
     "name": "stdout",
     "output_type": "stream",
     "text": [
      "请输入第一个整数10\n",
      "请输入第二个整数0\n",
      "对不起，除数不允许为0\n",
      "程序结束\n"
     ]
    }
   ],
   "source": [
    "try:\n",
    "    a=int(input('请输入第一个整数'))\n",
    "    b=int(input('请输入第二个整数'))\n",
    "    result=a/b\n",
    "    print('结果为:',result)\n",
    "except ZeroDivisionError:\n",
    "    print('对不起，除数不允许为0')\n",
    "else:\n",
    "    pass  #如果except没有运行，else就运行\n",
    "print('程序结束')"
   ]
  },
  {
   "cell_type": "code",
   "execution_count": 17,
   "metadata": {},
   "outputs": [],
   "source": [
    "#except BaseException as e "
   ]
  },
  {
   "cell_type": "code",
   "execution_count": 18,
   "metadata": {},
   "outputs": [],
   "source": [
    "#try..except..else...finally(finally是无论什么情况都最后会写的代码)"
   ]
  },
  {
   "cell_type": "code",
   "execution_count": 20,
   "metadata": {},
   "outputs": [
    {
     "name": "stdout",
     "output_type": "stream",
     "text": [
      "请输入第一个整数10\n",
      "请输入第二个整数0\n",
      "对不起，除数不允许为0\n",
      "程序结束\n"
     ]
    }
   ],
   "source": [
    "try:\n",
    "    a=int(input('请输入第一个整数'))\n",
    "    b=int(input('请输入第二个整数'))\n",
    "    result=a/b\n",
    "    print('结果为:',result)\n",
    "except ZeroDivisionError:\n",
    "    print('对不起，除数不允许为0')\n",
    "else:\n",
    "    pass  #如果except没有运行，else就运行\n",
    "finally:\n",
    "    pass\n",
    "print('程序结束')"
   ]
  },
  {
   "cell_type": "code",
   "execution_count": 22,
   "metadata": {},
   "outputs": [
    {
     "data": {
      "text/plain": [
       "'ZeroDivisionError  除（或取模）零（所有数据类型）\\n   \\n   IndexError  序列中没有此索引（index）\\n   \\n   KeyError 映射中没有这个键\\n   \\n   NameError 未声明/初始化对象（没有属性）\\n   \\n   SyntaxError Python语法错误\\n   \\n   ValueError 传入无效的参数\\n\\n\\n\\n\\n\\n\\n'"
      ]
     },
     "execution_count": 22,
     "metadata": {},
     "output_type": "execute_result"
    }
   ],
   "source": [
    "\"\"\"ZeroDivisionError  除（或取模）零（所有数据类型）\n",
    "   \n",
    "   IndexError  序列中没有此索引（index）\n",
    "   \n",
    "   KeyError 映射中没有这个键\n",
    "   \n",
    "   NameError 未声明/初始化对象（没有属性）\n",
    "   \n",
    "   SyntaxError Python语法错误\n",
    "   \n",
    "   ValueError 传入无效的参数\n",
    "\n",
    "\n",
    "\n",
    "\n",
    "\n",
    "\n",
    "\"\"\"\n"
   ]
  },
  {
   "cell_type": "code",
   "execution_count": 23,
   "metadata": {},
   "outputs": [],
   "source": [
    "#traceback\n",
    "import traceback"
   ]
  },
  {
   "cell_type": "code",
   "execution_count": 24,
   "metadata": {},
   "outputs": [
    {
     "name": "stderr",
     "output_type": "stream",
     "text": [
      "Traceback (most recent call last):\n",
      "  File \"<ipython-input-24-a93adc995552>\", line 2, in <module>\n",
      "    print(1/0)\n",
      "ZeroDivisionError: division by zero\n"
     ]
    }
   ],
   "source": [
    "try:\n",
    "    print(1/0)\n",
    "except:\n",
    "    traceback.print_exc()"
   ]
  },
  {
   "cell_type": "code",
   "execution_count": null,
   "metadata": {},
   "outputs": [],
   "source": []
  }
 ],
 "metadata": {
  "kernelspec": {
   "display_name": "Python 3",
   "language": "python",
   "name": "python3"
  },
  "language_info": {
   "codemirror_mode": {
    "name": "ipython",
    "version": 3
   },
   "file_extension": ".py",
   "mimetype": "text/x-python",
   "name": "python",
   "nbconvert_exporter": "python",
   "pygments_lexer": "ipython3",
   "version": "3.7.0"
  }
 },
 "nbformat": 4,
 "nbformat_minor": 4
}
