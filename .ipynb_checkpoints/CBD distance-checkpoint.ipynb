{
 "cells": [
  {
   "cell_type": "code",
   "execution_count": 3,
   "metadata": {},
   "outputs": [],
   "source": [
    "import csv"
   ]
  },
  {
   "cell_type": "code",
   "execution_count": 4,
   "metadata": {},
   "outputs": [
    {
     "name": "stdout",
     "output_type": "stream",
     "text": [
      "['Suburb', 'Address', 'Rooms', 'Type', 'Price', 'Method', 'SellerG', 'Date', 'Distance', 'Postcode', 'Bedroom2', 'Bathroom', 'Car', 'Landsize', 'BuildingArea', 'YearBuilt', 'CouncilArea', 'Lattitude', 'Longtitude', 'Regionname', 'Propertycount']\n"
     ]
    }
   ],
   "source": [
    "with open(\"melb_data.csv\",encoding='utf-8-sig')as csvfile:\n",
    "    reader=csv.reader(csvfile)\n",
    "    print(next(reader))"
   ]
  },
  {
   "cell_type": "code",
   "execution_count": 5,
   "metadata": {},
   "outputs": [],
   "source": [
    "class HousingPrice:\n",
    "    def __init__(self,address,price,distance,room,lattitude,longtitude):\n",
    "        self.address=address\n",
    "        self.price=price\n",
    "        self.distance=distance\n",
    "        self.room=room\n",
    "        self.lattitude=lattitude\n",
    "        self.longtitude=longtitude"
   ]
  },
  {
   "cell_type": "code",
   "execution_count": 6,
   "metadata": {},
   "outputs": [
    {
     "name": "stdout",
     "output_type": "stream",
     "text": [
      "13581\n"
     ]
    }
   ],
   "source": [
    "with open(\"melb_data.csv\")as csvfile:\n",
    "    reader=csv.reader(csvfile)\n",
    "    rows = 0\n",
    "    for r in reader:\n",
    "        rows +=1 \n",
    "    print(rows)"
   ]
  },
  {
   "cell_type": "code",
   "execution_count": 7,
   "metadata": {},
   "outputs": [],
   "source": [
    "HousingPrices=[]\n",
    "priceL=[]\n",
    "with open(\"melb_data.csv\")as csvfile:\n",
    "    reader=csv.DictReader(csvfile)\n",
    "    for row in reader:\n",
    "        address = row['Address']\n",
    "        price = row['Price']\n",
    "        distance = row['Distance']\n",
    "        room = row['Rooms']\n",
    "        lattitude = row['Lattitude']\n",
    "        longtitude = row['Longtitude']\n",
    "        HousingPrices.append(HousingPrice(address,price,distance,room,lattitude,longtitude))"
   ]
  },
  {
   "cell_type": "code",
   "execution_count": 17,
   "metadata": {},
   "outputs": [
    {
     "name": "stdout",
     "output_type": "stream",
     "text": [
      "35.4\n"
     ]
    }
   ],
   "source": [
    "print(HousingPrices[13540].distance)"
   ]
  },
  {
   "cell_type": "code",
   "execution_count": 24,
   "metadata": {},
   "outputs": [
    {
     "name": "stdout",
     "output_type": "stream",
     "text": [
      "1058493878.8333335 2031109402.8809502 1530904413.6071408 417403788.75476223 2237 5097 4604 1642\n"
     ]
    }
   ],
   "source": [
    "Total1=0\n",
    "Total2=0\n",
    "Total3=0\n",
    "Total4=0\n",
    "i1=0\n",
    "i2=0\n",
    "i3=0\n",
    "i4=0\n",
    "\n",
    "for h in HousingPrices:\n",
    "    if float(h.distance) <= 5.0:\n",
    "        Total1=Total1+float(h.price)/float(h.room)\n",
    "        i1+=1\n",
    "        \n",
    "    if 5.0< float(h.distance)<=10.0:\n",
    "            Total2=Total2+float(h.price)/float(h.room)\n",
    "            i2+=1\n",
    "            \n",
    "    if 10.0< float(h.distance) <=15.0:\n",
    "                Total3=Total3+float(h.price)/float(h.room)\n",
    "                i3+=1\n",
    "                \n",
    "    if  float(h.distance) >15.0:\n",
    "        Total4=Total4+float(h.price)/float(h.room)\n",
    "        i4+=1\n",
    "                    \n",
    "\n",
    "print(Total1,Total2,Total3,Total4,i1,i2,i3,i4)"
   ]
  },
  {
   "cell_type": "code",
   "execution_count": 25,
   "metadata": {},
   "outputs": [
    {
     "name": "stdout",
     "output_type": "stream",
     "text": [
      "473175.6275517807 398491.15222306264 332516.1628164945 254204.4998506469\n"
     ]
    }
   ],
   "source": [
    "a1=Total1/i1\n",
    "a2=Total2/i2\n",
    "a3=Total3/i3\n",
    "a4=Total4/i4\n",
    "print(a1,a2,a3,a4)"
   ]
  },
  {
   "cell_type": "code",
   "execution_count": null,
   "metadata": {},
   "outputs": [],
   "source": []
  }
 ],
 "metadata": {
  "kernelspec": {
   "display_name": "Python 3",
   "language": "python",
   "name": "python3"
  },
  "language_info": {
   "codemirror_mode": {
    "name": "ipython",
    "version": 3
   },
   "file_extension": ".py",
   "mimetype": "text/x-python",
   "name": "python",
   "nbconvert_exporter": "python",
   "pygments_lexer": "ipython3",
   "version": "3.7.0"
  }
 },
 "nbformat": 4,
 "nbformat_minor": 4
}
