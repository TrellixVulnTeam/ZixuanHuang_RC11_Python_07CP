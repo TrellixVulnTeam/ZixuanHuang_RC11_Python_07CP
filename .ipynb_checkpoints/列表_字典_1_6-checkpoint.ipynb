{
 "cells": [
  {
   "cell_type": "code",
   "execution_count": 1,
   "metadata": {},
   "outputs": [],
   "source": [
    "#index 可以返回列表中的元素的序号"
   ]
  },
  {
   "cell_type": "code",
   "execution_count": 2,
   "metadata": {},
   "outputs": [],
   "source": [
    "lst=['hello','world','hello',98]"
   ]
  },
  {
   "cell_type": "code",
   "execution_count": 3,
   "metadata": {},
   "outputs": [
    {
     "name": "stdout",
     "output_type": "stream",
     "text": [
      "0\n"
     ]
    }
   ],
   "source": [
    "print(lst.index('hello'))  #如果有N个相同元素只会返回第一个元素。"
   ]
  },
  {
   "cell_type": "code",
   "execution_count": 4,
   "metadata": {},
   "outputs": [
    {
     "name": "stdout",
     "output_type": "stream",
     "text": [
      "2\n"
     ]
    }
   ],
   "source": [
    "print(lst.index('hello',1,4)) #在一定范围内查找"
   ]
  },
  {
   "cell_type": "code",
   "execution_count": 5,
   "metadata": {},
   "outputs": [
    {
     "name": "stdout",
     "output_type": "stream",
     "text": [
      "hello\n"
     ]
    }
   ],
   "source": [
    "print(lst[0])"
   ]
  },
  {
   "cell_type": "code",
   "execution_count": 6,
   "metadata": {},
   "outputs": [],
   "source": [
    "#获取列表中的多个元素\n",
    "lst=[10,20,30,40,50,60,90,80,70,650,5096,50,605]"
   ]
  },
  {
   "cell_type": "code",
   "execution_count": 12,
   "metadata": {},
   "outputs": [
    {
     "name": "stdout",
     "output_type": "stream",
     "text": [
      "[20, 30, 40, 50, 60, 90, 80, 70, 650]\n"
     ]
    }
   ],
   "source": [
    "#切片  [start:stop:step] start默认为0 stop默认最大 step默认为1   step如果为负数，整个切法翻\n",
    "print(lst[1:10:1]) #！！！！切片是创造新的列表，其id是新的"
   ]
  },
  {
   "cell_type": "code",
   "execution_count": 13,
   "metadata": {},
   "outputs": [
    {
     "name": "stdout",
     "output_type": "stream",
     "text": [
      "[20, 40, 60, 80, 650]\n"
     ]
    }
   ],
   "source": [
    "print(lst[1:10:2])"
   ]
  },
  {
   "cell_type": "code",
   "execution_count": 14,
   "metadata": {},
   "outputs": [
    {
     "name": "stdout",
     "output_type": "stream",
     "text": [
      "[605, 50, 5096, 650, 70, 80, 90, 60, 50, 40, 30, 20, 10]\n"
     ]
    }
   ],
   "source": [
    "print(lst[::-1]) "
   ]
  },
  {
   "cell_type": "code",
   "execution_count": 15,
   "metadata": {},
   "outputs": [],
   "source": [
    "#用 in/ not in 可以判断元素是否在列表里 \n",
    "#for...in 也可以遍历列表"
   ]
  },
  {
   "cell_type": "code",
   "execution_count": 16,
   "metadata": {},
   "outputs": [],
   "source": [
    "#列表元素的增删改   append()在列表末尾增加一个元素\n",
    "\n",
    "#extend 在列表的末尾至少增加一个元素\n",
    "\n",
    "#insert 在列表的任意位置添加一个元素"
   ]
  },
  {
   "cell_type": "code",
   "execution_count": 17,
   "metadata": {},
   "outputs": [],
   "source": [
    "lst=[10,20,65056,5,632,3023,505,50,80,809,90,60,30]"
   ]
  },
  {
   "cell_type": "code",
   "execution_count": 20,
   "metadata": {},
   "outputs": [
    {
     "name": "stdout",
     "output_type": "stream",
     "text": [
      "[10, 20, 65056, 5, 632, 3023, 505, 50, 80, 809, 90, 60, 30, 50, 50]\n"
     ]
    }
   ],
   "source": [
    "lst.append(50) #没有创造新的对象，id与list相同\n",
    "print(lst)"
   ]
  },
  {
   "cell_type": "code",
   "execution_count": 21,
   "metadata": {},
   "outputs": [
    {
     "name": "stdout",
     "output_type": "stream",
     "text": [
      "None\n"
     ]
    }
   ],
   "source": [
    "print(lst.append(80))#！！！！注意"
   ]
  },
  {
   "cell_type": "code",
   "execution_count": 24,
   "metadata": {},
   "outputs": [
    {
     "name": "stdout",
     "output_type": "stream",
     "text": [
      "[10, 20, 65056, 5, 632, 3023, 505, 50, 80, 809, 90, 60, 30, [20, 60, 60, 80, 40, 6505, 60, 650, 50]]\n"
     ]
    }
   ],
   "source": [
    "lst=[10,20,65056,5,632,3023,505,50,80,809,90,60,30]\n",
    "lst2=[20,60,60,80,40,6505,60,650,50]\n",
    "lst.append(lst2)\n",
    "print(lst)"
   ]
  },
  {
   "cell_type": "code",
   "execution_count": 25,
   "metadata": {},
   "outputs": [
    {
     "name": "stdout",
     "output_type": "stream",
     "text": [
      "[10, 20, 65056, 5, 632, 3023, 505, 50, 80, 809, 90, 60, 30, 20, 60, 60, 80, 40, 6505, 60, 650, 50]\n"
     ]
    }
   ],
   "source": [
    "lst=[10,20,65056,5,632,3023,505,50,80,809,90,60,30]\n",
    "lst2=[20,60,60,80,40,6505,60,650,50]\n",
    "lst.extend(lst2)\n",
    "print(lst)"
   ]
  },
  {
   "cell_type": "code",
   "execution_count": 27,
   "metadata": {},
   "outputs": [
    {
     "name": "stdout",
     "output_type": "stream",
     "text": [
      "[10, 'hello', 20, 65056, 5, 632, 3023, 505, 50, 80, 809, 90, 60, 30]\n"
     ]
    }
   ],
   "source": [
    "lst=[10,20,65056,5,632,3023,505,50,80,809,90,60,30]\n",
    "lst.insert(1,'hello') #(插入位置，插入物件)\n",
    "print(lst)"
   ]
  },
  {
   "cell_type": "code",
   "execution_count": 29,
   "metadata": {},
   "outputs": [
    {
     "name": "stdout",
     "output_type": "stream",
     "text": [
      "[10, 20, 65056, 5, 'hello', 'dafdsafa', 'adfasdfwwwwwwww']\n"
     ]
    }
   ],
   "source": [
    "#用切片的方式添加元素\n",
    "lst=[10,20,65056,5,632,3023,505,50,80,809,90,60,30]\n",
    "lst2=['hello','dafdsafa','adfasdfwwwwwwww']\n",
    "lst[4:]=lst2 #(插入位置，插入物件)\n",
    "print(lst)"
   ]
  },
  {
   "cell_type": "code",
   "execution_count": 30,
   "metadata": {},
   "outputs": [
    {
     "name": "stdout",
     "output_type": "stream",
     "text": [
      "[10, 20, 65056, 5, 'hello', 'dafdsafa', 'adfasdfwwwwwwww', 50, 80, 809, 90, 60, 30]\n"
     ]
    }
   ],
   "source": [
    "lst=[10,20,65056,5,632,3023,505,50,80,809,90,60,30]\n",
    "lst2=['hello','dafdsafa','adfasdfwwwwwwww']\n",
    "lst[4:7]=lst2 #(插入位置，插入物件)\n",
    "print(lst)"
   ]
  },
  {
   "cell_type": "code",
   "execution_count": 31,
   "metadata": {},
   "outputs": [],
   "source": [
    "#元素的删除\n",
    "# remove 1.一次只能删除一个元素 2.重复的只删除第一个"
   ]
  },
  {
   "cell_type": "code",
   "execution_count": 33,
   "metadata": {},
   "outputs": [
    {
     "name": "stdout",
     "output_type": "stream",
     "text": [
      "[10, 20, 5, 632, 3023, 505, 50, 80, 809, 90, 60, 30]\n"
     ]
    }
   ],
   "source": [
    "lst=[10,20,65056,5,632,3023,505,50,80,809,90,60,30]\n",
    "lst.remove(65056)\n",
    "print(lst)"
   ]
  },
  {
   "cell_type": "code",
   "execution_count": 34,
   "metadata": {},
   "outputs": [],
   "source": [
    "#pop 删除一个指定索引位置上的元素   不指定索引删除最后一个元素"
   ]
  },
  {
   "cell_type": "code",
   "execution_count": 37,
   "metadata": {},
   "outputs": [
    {
     "name": "stdout",
     "output_type": "stream",
     "text": [
      "[10, 20, 5, 632, 3023, 505, 50, 80, 809, 90, 60, 30]\n"
     ]
    }
   ],
   "source": [
    "lst=[10,20,65056,5,632,3023,505,50,80,809,90,60,30]\n",
    "lst.pop(2)\n",
    "print(lst)"
   ]
  },
  {
   "cell_type": "code",
   "execution_count": 38,
   "metadata": {},
   "outputs": [
    {
     "name": "stdout",
     "output_type": "stream",
     "text": [
      "[10, 90, 60, 30]\n"
     ]
    }
   ],
   "source": [
    "#切片\n",
    "lst=[10,20,65056,5,632,3023,505,50,80,809,90,60,30]\n",
    "lst[1:10]=[]\n",
    "print(lst)"
   ]
  },
  {
   "cell_type": "code",
   "execution_count": 39,
   "metadata": {},
   "outputs": [],
   "source": [
    "#clear 清除列表里的所有元素\n",
    "#del 会直接删除列表对象"
   ]
  },
  {
   "cell_type": "code",
   "execution_count": 42,
   "metadata": {},
   "outputs": [
    {
     "name": "stdout",
     "output_type": "stream",
     "text": [
      "[]\n"
     ]
    }
   ],
   "source": [
    "lst=[10,20,65056,5,632,3023,505,50,80,809,90,60,30]\n",
    "lst.clear()\n",
    "print(lst)"
   ]
  },
  {
   "cell_type": "code",
   "execution_count": 43,
   "metadata": {},
   "outputs": [
    {
     "ename": "NameError",
     "evalue": "name 'lst' is not defined",
     "output_type": "error",
     "traceback": [
      "\u001b[1;31m---------------------------------------------------------------------------\u001b[0m",
      "\u001b[1;31mNameError\u001b[0m                                 Traceback (most recent call last)",
      "\u001b[1;32m<ipython-input-43-1c4e134d147e>\u001b[0m in \u001b[0;36m<module>\u001b[1;34m\u001b[0m\n\u001b[0;32m      1\u001b[0m \u001b[0mlst\u001b[0m\u001b[1;33m=\u001b[0m\u001b[1;33m[\u001b[0m\u001b[1;36m10\u001b[0m\u001b[1;33m,\u001b[0m\u001b[1;36m20\u001b[0m\u001b[1;33m,\u001b[0m\u001b[1;36m65056\u001b[0m\u001b[1;33m,\u001b[0m\u001b[1;36m5\u001b[0m\u001b[1;33m,\u001b[0m\u001b[1;36m632\u001b[0m\u001b[1;33m,\u001b[0m\u001b[1;36m3023\u001b[0m\u001b[1;33m,\u001b[0m\u001b[1;36m505\u001b[0m\u001b[1;33m,\u001b[0m\u001b[1;36m50\u001b[0m\u001b[1;33m,\u001b[0m\u001b[1;36m80\u001b[0m\u001b[1;33m,\u001b[0m\u001b[1;36m809\u001b[0m\u001b[1;33m,\u001b[0m\u001b[1;36m90\u001b[0m\u001b[1;33m,\u001b[0m\u001b[1;36m60\u001b[0m\u001b[1;33m,\u001b[0m\u001b[1;36m30\u001b[0m\u001b[1;33m]\u001b[0m\u001b[1;33m\u001b[0m\u001b[0m\n\u001b[0;32m      2\u001b[0m \u001b[1;32mdel\u001b[0m \u001b[0mlst\u001b[0m\u001b[1;33m\u001b[0m\u001b[0m\n\u001b[1;32m----> 3\u001b[1;33m \u001b[0mprint\u001b[0m\u001b[1;33m(\u001b[0m\u001b[0mlst\u001b[0m\u001b[1;33m)\u001b[0m\u001b[1;33m\u001b[0m\u001b[0m\n\u001b[0m",
      "\u001b[1;31mNameError\u001b[0m: name 'lst' is not defined"
     ]
    }
   ],
   "source": [
    "lst=[10,20,65056,5,632,3023,505,50,80,809,90,60,30]\n",
    "del lst\n",
    "print(lst)"
   ]
  },
  {
   "cell_type": "code",
   "execution_count": 44,
   "metadata": {},
   "outputs": [
    {
     "name": "stdout",
     "output_type": "stream",
     "text": [
      "[10, 20, 'hello', 5, 632, 3023, 505, 50, 80, 809, 90, 60, 30]\n"
     ]
    }
   ],
   "source": [
    "#列表元素的修改操作\n",
    "\n",
    "lst=[10,20,65056,5,632,3023,505,50,80,809,90,60,30]\n",
    "\n",
    "lst[2]='hello'\n",
    "\n",
    "print(lst)"
   ]
  },
  {
   "cell_type": "code",
   "execution_count": 47,
   "metadata": {},
   "outputs": [
    {
     "name": "stdout",
     "output_type": "stream",
     "text": [
      "[10, 20, 'hello', 3023, 505, 50, 80, 809, 90, 60, 30]\n"
     ]
    }
   ],
   "source": [
    "\n",
    "lst=[10,20,65056,5,632,3023,505,50,80,809,90,60,30]\n",
    "\n",
    "lst[2:5]=['hello']\n",
    "\n",
    "print(lst)"
   ]
  },
  {
   "cell_type": "code",
   "execution_count": 48,
   "metadata": {},
   "outputs": [],
   "source": [
    "#列表的排序\n",
    "\n",
    "\n",
    "#sort 列表中的元素默认从小到大排序，可以指定 reverse=True， 进行降序排序"
   ]
  },
  {
   "cell_type": "code",
   "execution_count": 49,
   "metadata": {},
   "outputs": [
    {
     "name": "stdout",
     "output_type": "stream",
     "text": [
      "[5, 10, 20, 30, 50, 60, 80, 90, 505, 632, 809, 3023, 65056]\n"
     ]
    }
   ],
   "source": [
    "lst=[10,20,65056,5,632,3023,505,50,80,809,90,60,30]\n",
    "lst.sort()#在原本列表对象上进行操作，不会产生新的对象\n",
    "print(lst)"
   ]
  },
  {
   "cell_type": "code",
   "execution_count": 50,
   "metadata": {},
   "outputs": [
    {
     "name": "stdout",
     "output_type": "stream",
     "text": [
      "[65056, 3023, 809, 632, 505, 90, 80, 60, 50, 30, 20, 10, 5]\n"
     ]
    }
   ],
   "source": [
    "lst=[10,20,65056,5,632,3023,505,50,80,809,90,60,30]\n",
    "lst.sort(reverse=True)\n",
    "print(lst)"
   ]
  },
  {
   "cell_type": "code",
   "execution_count": 51,
   "metadata": {},
   "outputs": [
    {
     "name": "stdout",
     "output_type": "stream",
     "text": [
      "[30, 60, 90, 809, 80, 50, 505, 3023, 632, 5, 65056, 20, 10]\n"
     ]
    }
   ],
   "source": [
    "lst=[10,20,65056,5,632,3023,505,50,80,809,90,60,30]\n",
    "lst.reverse()#顺序翻转\n",
    "print(lst)"
   ]
  },
  {
   "cell_type": "code",
   "execution_count": 53,
   "metadata": {},
   "outputs": [
    {
     "name": "stdout",
     "output_type": "stream",
     "text": [
      "[5, 10, 20, 30, 50, 60, 80, 90, 505, 632, 809, 3023, 65056]\n"
     ]
    }
   ],
   "source": [
    "lst=[10,20,65056,5,632,3023,505,50,80,809,90,60,30]\n",
    "lst2=sorted(lst)#产生新的列表对象，原本列表对象还是存在\n",
    "print(lst2)"
   ]
  },
  {
   "cell_type": "code",
   "execution_count": 54,
   "metadata": {},
   "outputs": [
    {
     "name": "stdout",
     "output_type": "stream",
     "text": [
      "[65056, 3023, 809, 632, 505, 90, 80, 60, 50, 30, 20, 10, 5]\n"
     ]
    }
   ],
   "source": [
    "lst=[10,20,65056,5,632,3023,505,50,80,809,90,60,30]\n",
    "lst2=sorted(lst,reverse=True)\n",
    "print(lst2)"
   ]
  },
  {
   "cell_type": "code",
   "execution_count": 55,
   "metadata": {},
   "outputs": [],
   "source": [
    "#列表生成式 [i*i for i in range(1,10)]"
   ]
  },
  {
   "cell_type": "code",
   "execution_count": 56,
   "metadata": {},
   "outputs": [],
   "source": [
    "lst=[i*i for i in range(1,10)]"
   ]
  },
  {
   "cell_type": "code",
   "execution_count": 57,
   "metadata": {},
   "outputs": [
    {
     "name": "stdout",
     "output_type": "stream",
     "text": [
      "[1, 4, 9, 16, 25, 36, 49, 64, 81]\n"
     ]
    }
   ],
   "source": [
    "print(lst)"
   ]
  },
  {
   "cell_type": "code",
   "execution_count": 59,
   "metadata": {},
   "outputs": [
    {
     "name": "stdout",
     "output_type": "stream",
     "text": [
      "[1, 2, 3, 4, 5, 6, 7, 8, 9]\n"
     ]
    }
   ],
   "source": [
    "lst2=[i for i in range(1,10)]\n",
    "print(lst2)"
   ]
  },
  {
   "cell_type": "code",
   "execution_count": 62,
   "metadata": {},
   "outputs": [
    {
     "name": "stdout",
     "output_type": "stream",
     "text": [
      "[2, 4, 6, 8, 10]\n"
     ]
    }
   ],
   "source": [
    "lst3=[2*i for i in range(1,6)]\n",
    "print(lst3)"
   ]
  },
  {
   "cell_type": "code",
   "execution_count": 1,
   "metadata": {},
   "outputs": [],
   "source": [
    "#字典 {.....}"
   ]
  },
  {
   "cell_type": "code",
   "execution_count": 1,
   "metadata": {},
   "outputs": [],
   "source": [
    "dir1={'hello':90,'sdf':95,'dlf':100} #{key:value} 字典是可变序列，能直接增删改 Key  但字典相比列表是一个无序序列"
   ]
  },
  {
   "cell_type": "code",
   "execution_count": 3,
   "metadata": {},
   "outputs": [],
   "source": [
    "dir2=dict(name='jack',age=20)"
   ]
  },
  {
   "cell_type": "code",
   "execution_count": 4,
   "metadata": {},
   "outputs": [
    {
     "name": "stdout",
     "output_type": "stream",
     "text": [
      "{'name': 'jack', 'age': 20}\n"
     ]
    }
   ],
   "source": [
    "print(dir2)"
   ]
  },
  {
   "cell_type": "code",
   "execution_count": 5,
   "metadata": {},
   "outputs": [
    {
     "data": {
      "text/plain": [
       "90"
      ]
     },
     "execution_count": 5,
     "metadata": {},
     "output_type": "execute_result"
    }
   ],
   "source": [
    "dir1['hello']"
   ]
  },
  {
   "cell_type": "code",
   "execution_count": 6,
   "metadata": {},
   "outputs": [
    {
     "name": "stdout",
     "output_type": "stream",
     "text": [
      "90\n"
     ]
    }
   ],
   "source": [
    "print(dir1.get('hello'))"
   ]
  },
  {
   "cell_type": "code",
   "execution_count": 7,
   "metadata": {},
   "outputs": [
    {
     "name": "stdout",
     "output_type": "stream",
     "text": [
      "None\n"
     ]
    }
   ],
   "source": [
    "print(dir1.get('helloPython'))"
   ]
  },
  {
   "cell_type": "code",
   "execution_count": 9,
   "metadata": {},
   "outputs": [
    {
     "name": "stdout",
     "output_type": "stream",
     "text": [
      "404\n"
     ]
    }
   ],
   "source": [
    "print(dir1.get('helloPython',404)) #404是当查不到指定的键时返回的值"
   ]
  },
  {
   "cell_type": "code",
   "execution_count": 11,
   "metadata": {},
   "outputs": [
    {
     "name": "stdout",
     "output_type": "stream",
     "text": [
      "False\n",
      "True\n"
     ]
    }
   ],
   "source": [
    "# in/not in\n",
    "print('你好'in dir1)\n",
    "print('你好'not in dir1)"
   ]
  },
  {
   "cell_type": "code",
   "execution_count": 12,
   "metadata": {},
   "outputs": [
    {
     "name": "stdout",
     "output_type": "stream",
     "text": [
      "{'sdf': 95, 'dlf': 100}\n"
     ]
    }
   ],
   "source": [
    "#删除\n",
    "del dir1['hello']\n",
    "print(dir1)"
   ]
  },
  {
   "cell_type": "code",
   "execution_count": 13,
   "metadata": {},
   "outputs": [
    {
     "name": "stdout",
     "output_type": "stream",
     "text": [
      "{}\n"
     ]
    }
   ],
   "source": [
    "#清空\n",
    "dir1.clear()\n",
    "print(dir1)"
   ]
  },
  {
   "cell_type": "code",
   "execution_count": 14,
   "metadata": {},
   "outputs": [],
   "source": [
    "dir1['陈6']=98"
   ]
  },
  {
   "cell_type": "code",
   "execution_count": 15,
   "metadata": {},
   "outputs": [
    {
     "name": "stdout",
     "output_type": "stream",
     "text": [
      "{'陈6': 98}\n"
     ]
    }
   ],
   "source": [
    "print(dir1)"
   ]
  },
  {
   "cell_type": "code",
   "execution_count": 17,
   "metadata": {},
   "outputs": [
    {
     "name": "stdout",
     "output_type": "stream",
     "text": [
      "{'陈6': 300}\n"
     ]
    }
   ],
   "source": [
    "dir1['陈6']=300\n",
    "print(dir1)"
   ]
  },
  {
   "cell_type": "code",
   "execution_count": 18,
   "metadata": {},
   "outputs": [],
   "source": [
    "#获取字典视图的三个方法\n",
    "\n",
    "#keys() values() items()"
   ]
  },
  {
   "cell_type": "code",
   "execution_count": 19,
   "metadata": {},
   "outputs": [],
   "source": [
    "dir1={'hello':90,'sdf':95,'dlf':100}"
   ]
  },
  {
   "cell_type": "code",
   "execution_count": 20,
   "metadata": {},
   "outputs": [
    {
     "data": {
      "text/plain": [
       "dict_keys(['hello', 'sdf', 'dlf'])"
      ]
     },
     "execution_count": 20,
     "metadata": {},
     "output_type": "execute_result"
    }
   ],
   "source": [
    "dir1.keys()"
   ]
  },
  {
   "cell_type": "code",
   "execution_count": 21,
   "metadata": {},
   "outputs": [
    {
     "data": {
      "text/plain": [
       "dict_values([90, 95, 100])"
      ]
     },
     "execution_count": 21,
     "metadata": {},
     "output_type": "execute_result"
    }
   ],
   "source": [
    "dir1.values()"
   ]
  },
  {
   "cell_type": "code",
   "execution_count": 25,
   "metadata": {},
   "outputs": [
    {
     "data": {
      "text/plain": [
       "dict_items([('hello', 90), ('sdf', 95), ('dlf', 100)])"
      ]
     },
     "execution_count": 25,
     "metadata": {},
     "output_type": "execute_result"
    }
   ],
   "source": [
    "dir1.items() #()元组"
   ]
  },
  {
   "cell_type": "code",
   "execution_count": 23,
   "metadata": {},
   "outputs": [],
   "source": [
    "keys=dir1.keys()"
   ]
  },
  {
   "cell_type": "code",
   "execution_count": 24,
   "metadata": {},
   "outputs": [
    {
     "name": "stdout",
     "output_type": "stream",
     "text": [
      "['hello', 'sdf', 'dlf']\n"
     ]
    }
   ],
   "source": [
    "print(list(keys))"
   ]
  },
  {
   "cell_type": "code",
   "execution_count": 26,
   "metadata": {},
   "outputs": [
    {
     "name": "stdout",
     "output_type": "stream",
     "text": [
      "hello\n",
      "sdf\n",
      "dlf\n"
     ]
    }
   ],
   "source": [
    "for item in dir1:\n",
    "    print(item)"
   ]
  },
  {
   "cell_type": "code",
   "execution_count": 27,
   "metadata": {},
   "outputs": [
    {
     "name": "stdout",
     "output_type": "stream",
     "text": [
      "90\n",
      "95\n",
      "100\n"
     ]
    }
   ],
   "source": [
    "for item in dir1:\n",
    "    print(dir1[item])"
   ]
  },
  {
   "cell_type": "code",
   "execution_count": 29,
   "metadata": {},
   "outputs": [
    {
     "name": "stdout",
     "output_type": "stream",
     "text": [
      "90\n",
      "95\n",
      "100\n"
     ]
    }
   ],
   "source": [
    "for item in dir1:\n",
    "    print(dir1.get(item))"
   ]
  },
  {
   "cell_type": "code",
   "execution_count": 30,
   "metadata": {},
   "outputs": [],
   "source": [
    "#key 不能重复，但value可以"
   ]
  },
  {
   "cell_type": "code",
   "execution_count": 31,
   "metadata": {},
   "outputs": [],
   "source": [
    "#字典会浪费较多内存"
   ]
  },
  {
   "cell_type": "code",
   "execution_count": 33,
   "metadata": {},
   "outputs": [
    {
     "name": "stdout",
     "output_type": "stream",
     "text": [
      "<zip object at 0x0000022840C56EC8>\n"
     ]
    }
   ],
   "source": [
    "#字典生成式 zip()\n",
    "\n",
    "items=['Fruit','Books','Others']\n",
    "prices=[96,78,85]\n",
    "lst=zip(items,prices)\n",
    "print(lst)"
   ]
  },
  {
   "cell_type": "code",
   "execution_count": 35,
   "metadata": {},
   "outputs": [
    {
     "name": "stdout",
     "output_type": "stream",
     "text": [
      "[('Fruit', 96), ('Books', 78), ('Others', 85)]\n"
     ]
    }
   ],
   "source": [
    "print(list(lst))"
   ]
  },
  {
   "cell_type": "code",
   "execution_count": 37,
   "metadata": {},
   "outputs": [
    {
     "data": {
      "text/plain": [
       "{'FRUIT': 96, 'BOOKS': 78, 'OTHERS': 85}"
      ]
     },
     "execution_count": 37,
     "metadata": {},
     "output_type": "execute_result"
    }
   ],
   "source": [
    "{item.upper():prices for item,prices in zip(items,prices)} #!!!!!!!!!!!!!!"
   ]
  },
  {
   "cell_type": "code",
   "execution_count": 38,
   "metadata": {},
   "outputs": [],
   "source": [
    "#item.upper() 全部大写"
   ]
  },
  {
   "cell_type": "code",
   "execution_count": 40,
   "metadata": {},
   "outputs": [
    {
     "data": {
      "text/plain": [
       "{'FRUIT': 96, 'BOOKS': 78, 'OTHERS': 88}"
      ]
     },
     "execution_count": 40,
     "metadata": {},
     "output_type": "execute_result"
    }
   ],
   "source": [
    "items=['Fruit','Books','Others']\n",
    "prices=[96,78,88,989,898]\n",
    "lst=zip(items,prices)\n",
    "{item.upper():prices for item,prices in zip(items,prices)} "
   ]
  },
  {
   "cell_type": "code",
   "execution_count": 41,
   "metadata": {},
   "outputs": [
    {
     "data": {
      "text/plain": [
       "{'FRUIT': 96, 'BOOKS': 78, 'OTHERS': 88}"
      ]
     },
     "execution_count": 41,
     "metadata": {},
     "output_type": "execute_result"
    }
   ],
   "source": [
    "items=['Fruit','Books','Others','oujoiu','dfasdfa']\n",
    "prices=[96,78,88]\n",
    "lst=zip(items,prices)\n",
    "{item.upper():prices for item,prices in zip(items,prices)} "
   ]
  },
  {
   "cell_type": "code",
   "execution_count": 42,
   "metadata": {},
   "outputs": [],
   "source": [
    "#一一对应的加入字典，多的不加"
   ]
  }
 ],
 "metadata": {
  "kernelspec": {
   "display_name": "Python 3",
   "language": "python",
   "name": "python3"
  },
  "language_info": {
   "codemirror_mode": {
    "name": "ipython",
    "version": 3
   },
   "file_extension": ".py",
   "mimetype": "text/x-python",
   "name": "python",
   "nbconvert_exporter": "python",
   "pygments_lexer": "ipython3",
   "version": "3.7.0"
  }
 },
 "nbformat": 4,
 "nbformat_minor": 4
}
