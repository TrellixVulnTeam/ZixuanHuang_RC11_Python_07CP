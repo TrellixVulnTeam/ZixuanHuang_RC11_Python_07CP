{
 "cells": [
  {
   "cell_type": "code",
   "execution_count": null,
   "metadata": {},
   "outputs": [],
   "source": [
    "import tweepy                   \n",
    "from google.colab import drive  \n",
    "import json\n",
    "import csv\n",
    "from datetime import date\n",
    "from datetime import datetime\n",
    "import time"
   ]
  },
  {
   "cell_type": "code",
   "execution_count": null,
   "metadata": {},
   "outputs": [],
   "source": [
    "# Connect Google Drive to Colab\n",
    "drive.mount('/content/gdrive')\n",
    "# Create a variable to store the data path on your drive\n",
    "path = './gdrive/My Drive/path/to/data'"
   ]
  }
 ],
 "metadata": {
  "kernelspec": {
   "display_name": "Python 3",
   "language": "python",
   "name": "python3"
  }
 },
 "nbformat": 4,
 "nbformat_minor": 4
}
